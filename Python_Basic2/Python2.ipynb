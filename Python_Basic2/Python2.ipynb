{
 "cells": [
  {
   "cell_type": "markdown",
   "id": "c4fb4986",
   "metadata": {},
   "source": [
    "# Python using Pandas and Numpy for Big Data\n",
    "\n",
    "Intalaremos las librerias Pandas, Numpy para trabajar con datos masivos.\n",
    "\n",
    "## Lenguaje de programación \n",
    "\n",
    "Python\n",
    "\n",
    "# Author\n",
    "\n",
    "Derechos Reservados © José Manuel, Vásquez Chunque"
   ]
  }
 ],
 "metadata": {
  "language_info": {
   "name": "python"
  }
 },
 "nbformat": 4,
 "nbformat_minor": 5
}
