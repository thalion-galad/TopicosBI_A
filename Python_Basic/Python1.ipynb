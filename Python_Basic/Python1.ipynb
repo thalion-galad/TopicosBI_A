{
 "cells": [
  {
   "cell_type": "markdown",
   "id": "9d9b0b72",
   "metadata": {},
   "source": [
    "# Python for big data\n",
    "\n",
    "1. Variables\n",
    "2. String\n",
    "3. Function print\n",
    "4. Boleanos y Condicionales\n",
    "5. Loops\n",
    "6. Functions\n",
    "7. Manejo de Excepciones"
   ]
  },
  {
   "cell_type": "code",
   "execution_count": 12,
   "id": "2a711a8f",
   "metadata": {},
   "outputs": [],
   "source": [
    "cadena_4='(Hola Mundo)'"
   ]
  },
  {
   "cell_type": "code",
   "execution_count": 3,
   "id": "c9893441",
   "metadata": {},
   "outputs": [
    {
     "data": {
      "text/plain": [
       "'Hi mundo'"
      ]
     },
     "execution_count": 3,
     "metadata": {},
     "output_type": "execute_result"
    }
   ],
   "source": [
    "#Reemplazar string\n",
    "cadena_5 = 'Hola mundo'\n",
    "cadena_5.replace('Hola','Hi')"
   ]
  },
  {
   "cell_type": "code",
   "execution_count": 4,
   "id": "3ad6e979",
   "metadata": {},
   "outputs": [
    {
     "data": {
      "text/plain": [
       "1"
      ]
     },
     "execution_count": 4,
     "metadata": {},
     "output_type": "execute_result"
    }
   ],
   "source": [
    "cadena_5.index('o')"
   ]
  },
  {
   "cell_type": "code",
   "execution_count": 5,
   "id": "6cd62783",
   "metadata": {},
   "outputs": [
    {
     "data": {
      "text/plain": [
       "'a'"
      ]
     },
     "execution_count": 5,
     "metadata": {},
     "output_type": "execute_result"
    }
   ],
   "source": [
    "cadena_5[3]"
   ]
  },
  {
   "cell_type": "code",
   "execution_count": 6,
   "id": "f79af3ca",
   "metadata": {},
   "outputs": [
    {
     "data": {
      "text/plain": [
       "'l'"
      ]
     },
     "execution_count": 6,
     "metadata": {},
     "output_type": "execute_result"
    }
   ],
   "source": [
    "cadena_5[2]"
   ]
  },
  {
   "cell_type": "code",
   "execution_count": 10,
   "id": "65f25dc6",
   "metadata": {},
   "outputs": [
    {
     "data": {
      "text/plain": [
       "'la mun'"
      ]
     },
     "execution_count": 10,
     "metadata": {},
     "output_type": "execute_result"
    }
   ],
   "source": [
    "cadena_5[2:-2]"
   ]
  },
  {
   "cell_type": "code",
   "execution_count": 11,
   "id": "06464dc8",
   "metadata": {},
   "outputs": [
    {
     "data": {
      "text/plain": [
       "'odnum aloH'"
      ]
     },
     "execution_count": 11,
     "metadata": {},
     "output_type": "execute_result"
    }
   ],
   "source": [
    "#invirtiendo la cadena\n",
    "cadena_5[::-1]"
   ]
  },
  {
   "cell_type": "code",
   "execution_count": 13,
   "id": "7b052cea",
   "metadata": {},
   "outputs": [
    {
     "data": {
      "text/plain": [
       "['HOLA', 'MUNDO']"
      ]
     },
     "execution_count": 13,
     "metadata": {},
     "output_type": "execute_result"
    }
   ],
   "source": [
    "#llamando a una cadena\n",
    "cadena_4.strip('(), ').upper().split()"
   ]
  },
  {
   "cell_type": "code",
   "execution_count": 14,
   "id": "23f8959a",
   "metadata": {},
   "outputs": [
    {
     "data": {
      "text/plain": [
       "'Hola Jose, este es el curso de Topicos Especiales en Inteligencia de Negocios'"
      ]
     },
     "execution_count": 14,
     "metadata": {},
     "output_type": "execute_result"
    }
   ],
   "source": [
    "# Python usando f-string\n",
    "nombre='Jose'\n",
    "curso='Topicos Especiales en Inteligencia de Negocios'\n",
    "f'Hola {nombre}, este es el curso de {curso}'"
   ]
  },
  {
   "cell_type": "code",
   "execution_count": 17,
   "id": "d66a6efe",
   "metadata": {},
   "outputs": [],
   "source": [
    "string_1=\"Hola mundo\"\n",
    "string_2='5'\n",
    "string_3='cinco'"
   ]
  },
  {
   "cell_type": "code",
   "execution_count": 16,
   "id": "9641b055",
   "metadata": {},
   "outputs": [
    {
     "data": {
      "text/plain": [
       "False"
      ]
     },
     "execution_count": 16,
     "metadata": {},
     "output_type": "execute_result"
    }
   ],
   "source": [
    "string_1.isdigit()"
   ]
  },
  {
   "cell_type": "code",
   "execution_count": 18,
   "id": "a59365b6",
   "metadata": {},
   "outputs": [
    {
     "data": {
      "text/plain": [
       "True"
      ]
     },
     "execution_count": 18,
     "metadata": {},
     "output_type": "execute_result"
    }
   ],
   "source": [
    "string_2.isdigit()"
   ]
  },
  {
   "cell_type": "code",
   "execution_count": 19,
   "id": "8e167a5a",
   "metadata": {},
   "outputs": [
    {
     "data": {
      "text/plain": [
       "True"
      ]
     },
     "execution_count": 19,
     "metadata": {},
     "output_type": "execute_result"
    }
   ],
   "source": [
    "string_3.isalpha()"
   ]
  },
  {
   "cell_type": "code",
   "execution_count": 20,
   "id": "1561ee58",
   "metadata": {},
   "outputs": [
    {
     "data": {
      "text/plain": [
       "'abcdefghijklmnopqrstuvwxyzABCDEFGHIJKLMNOPQRSTUVWXYZ'"
      ]
     },
     "execution_count": 20,
     "metadata": {},
     "output_type": "execute_result"
    }
   ],
   "source": [
    "import string\n",
    "string.ascii_letters"
   ]
  },
  {
   "cell_type": "code",
   "execution_count": 21,
   "id": "4b56ae6a",
   "metadata": {},
   "outputs": [
    {
     "data": {
      "text/plain": [
       "'abcdefghijklmnopqrstuvwxyz'"
      ]
     },
     "execution_count": 21,
     "metadata": {},
     "output_type": "execute_result"
    }
   ],
   "source": [
    "string.ascii_lowercase"
   ]
  },
  {
   "cell_type": "code",
   "execution_count": 22,
   "id": "f8159f2c",
   "metadata": {},
   "outputs": [
    {
     "data": {
      "text/plain": [
       "'ABCDEFGHIJKLMNOPQRSTUVWXYZ'"
      ]
     },
     "execution_count": 22,
     "metadata": {},
     "output_type": "execute_result"
    }
   ],
   "source": [
    "string.ascii_uppercase"
   ]
  },
  {
   "cell_type": "markdown",
   "id": "806e8158",
   "metadata": {},
   "source": [
    "# 3. Funcion Print"
   ]
  },
  {
   "cell_type": "code",
   "execution_count": 23,
   "id": "f6372f61",
   "metadata": {},
   "outputs": [
    {
     "name": "stdout",
     "output_type": "stream",
     "text": [
      "Hola mundo\n"
     ]
    }
   ],
   "source": [
    "print(string_1)"
   ]
  },
  {
   "cell_type": "code",
   "execution_count": 24,
   "id": "2b94bd2b",
   "metadata": {},
   "outputs": [
    {
     "name": "stdout",
     "output_type": "stream",
     "text": [
      "<class 'str'>\n"
     ]
    }
   ],
   "source": [
    "print(type(string_1))"
   ]
  },
  {
   "cell_type": "code",
   "execution_count": 25,
   "id": "9565efb7",
   "metadata": {},
   "outputs": [
    {
     "name": "stdout",
     "output_type": "stream",
     "text": [
      "<class 'int'>\n"
     ]
    }
   ],
   "source": [
    "print(type(5))"
   ]
  },
  {
   "cell_type": "code",
   "execution_count": 27,
   "id": "8ae0e86f",
   "metadata": {},
   "outputs": [
    {
     "name": "stdout",
     "output_type": "stream",
     "text": [
      "Mi nombre es: Jose\n",
      "Mi nombre es: Jose\n"
     ]
    }
   ],
   "source": [
    "print('Mi nombre es:',nombre)\n",
    "print(f'Mi nombre es: {nombre}')"
   ]
  },
  {
   "cell_type": "code",
   "execution_count": 29,
   "id": "6372c9bb",
   "metadata": {},
   "outputs": [
    {
     "name": "stdout",
     "output_type": "stream",
     "text": [
      "Los datos del curso son: \n",
      "Curso \t\t: Topicos Especiales en Inteligencia de Negocios\n",
      "Ciclo \t\t: Electivo\n"
     ]
    }
   ],
   "source": [
    "print(\"Los datos del curso son: \\nCurso \\t\\t: Topicos Especiales en Inteligencia de Negocios\\nCiclo \\t\\t: Electivo\")"
   ]
  },
  {
   "cell_type": "markdown",
   "id": "cda99f0d",
   "metadata": {},
   "source": [
    "# 4. Booleanos y condicionales"
   ]
  },
  {
   "cell_type": "code",
   "execution_count": 34,
   "id": "33e66112",
   "metadata": {},
   "outputs": [
    {
     "name": "stdout",
     "output_type": "stream",
     "text": [
      "<class 'bool'>\n"
     ]
    }
   ],
   "source": [
    "final_page = False\n",
    "print(type(final_page))"
   ]
  },
  {
   "cell_type": "code",
   "execution_count": 35,
   "id": "ada1f9eb",
   "metadata": {},
   "outputs": [
    {
     "name": "stdout",
     "output_type": "stream",
     "text": [
      "Sigue leyendo\n"
     ]
    }
   ],
   "source": [
    "if final_page :\n",
    "    print(\"Final de la pagina\")\n",
    "else:\n",
    "    print(\"Sigue leyendo\")"
   ]
  },
  {
   "cell_type": "code",
   "execution_count": 36,
   "id": "6d6624d7",
   "metadata": {},
   "outputs": [
    {
     "data": {
      "text/plain": [
       "False"
      ]
     },
     "execution_count": 36,
     "metadata": {},
     "output_type": "execute_result"
    }
   ],
   "source": [
    "# operadores logicos\n",
    "not True"
   ]
  },
  {
   "cell_type": "code",
   "execution_count": 37,
   "id": "215ede0b",
   "metadata": {},
   "outputs": [
    {
     "data": {
      "text/plain": [
       "True"
      ]
     },
     "execution_count": 37,
     "metadata": {},
     "output_type": "execute_result"
    }
   ],
   "source": [
    "not False"
   ]
  },
  {
   "cell_type": "code",
   "execution_count": 38,
   "id": "dfef4eb7",
   "metadata": {},
   "outputs": [
    {
     "data": {
      "text/plain": [
       "True"
      ]
     },
     "execution_count": 38,
     "metadata": {},
     "output_type": "execute_result"
    }
   ],
   "source": [
    "True and True"
   ]
  },
  {
   "cell_type": "code",
   "execution_count": 39,
   "id": "5df93724",
   "metadata": {},
   "outputs": [
    {
     "data": {
      "text/plain": [
       "False"
      ]
     },
     "execution_count": 39,
     "metadata": {},
     "output_type": "execute_result"
    }
   ],
   "source": [
    "True and False"
   ]
  },
  {
   "cell_type": "code",
   "execution_count": 40,
   "id": "acdecec7",
   "metadata": {},
   "outputs": [
    {
     "data": {
      "text/plain": [
       "True"
      ]
     },
     "execution_count": 40,
     "metadata": {},
     "output_type": "execute_result"
    }
   ],
   "source": [
    "True or False"
   ]
  },
  {
   "cell_type": "code",
   "execution_count": 41,
   "id": "40ff5791",
   "metadata": {},
   "outputs": [
    {
     "ename": "TypeError",
     "evalue": "'<' not supported between instances of 'int' and 'str'",
     "output_type": "error",
     "traceback": [
      "\u001b[31m---------------------------------------------------------------------------\u001b[39m",
      "\u001b[31mTypeError\u001b[39m                                 Traceback (most recent call last)",
      "\u001b[36mCell\u001b[39m\u001b[36m \u001b[39m\u001b[32mIn[41]\u001b[39m\u001b[32m, line 2\u001b[39m\n\u001b[32m      1\u001b[39m \u001b[38;5;66;03m# Comparación\u001b[39;00m\n\u001b[32m----> \u001b[39m\u001b[32m2\u001b[39m \u001b[32;43m1\u001b[39;49m\u001b[43m<\u001b[49m\u001b[33;43m'\u001b[39;49m\u001b[33;43muno\u001b[39;49m\u001b[33;43m'\u001b[39;49m\n",
      "\u001b[31mTypeError\u001b[39m: '<' not supported between instances of 'int' and 'str'"
     ]
    }
   ],
   "source": [
    "# Comparación\n",
    "1<'uno'"
   ]
  },
  {
   "cell_type": "markdown",
   "id": "86490f3c",
   "metadata": {},
   "source": [
    "# 5. Loops"
   ]
  },
  {
   "cell_type": "code",
   "execution_count": 42,
   "id": "a130ce3a",
   "metadata": {},
   "outputs": [
    {
     "name": "stdout",
     "output_type": "stream",
     "text": [
      "H\n",
      "o\n",
      "l\n",
      "a\n",
      " \n",
      "M\n",
      "u\n",
      "n\n",
      "d\n",
      "o\n"
     ]
    }
   ],
   "source": [
    "for letra in 'Hola Mundo':\n",
    "    print(letra)"
   ]
  },
  {
   "cell_type": "code",
   "execution_count": 43,
   "id": "0dbcd8c5",
   "metadata": {},
   "outputs": [
    {
     "name": "stdout",
     "output_type": "stream",
     "text": [
      "Palabras: ['Hola', 'a', 'todos']\n"
     ]
    }
   ],
   "source": [
    "my_string = \"Hola a todos\"\n",
    "palabras = my_string.split()\n",
    "print(f'Palabras: {palabras}')"
   ]
  },
  {
   "cell_type": "code",
   "execution_count": 44,
   "id": "83c277c1",
   "metadata": {},
   "outputs": [
    {
     "name": "stdout",
     "output_type": "stream",
     "text": [
      "Hola\n",
      "a\n",
      "todos\n"
     ]
    }
   ],
   "source": [
    "for palabra in palabras:\n",
    "    print (palabra)"
   ]
  },
  {
   "cell_type": "code",
   "execution_count": 45,
   "id": "199f68d4",
   "metadata": {},
   "outputs": [
    {
     "name": "stdout",
     "output_type": "stream",
     "text": [
      "Palabra 0: Hola\n",
      "Palabra 1: a\n",
      "Palabra 2: todos\n"
     ]
    }
   ],
   "source": [
    "for idx, palabra in enumerate(palabras):\n",
    "    print(f'Palabra {idx}: {palabra}')"
   ]
  },
  {
   "cell_type": "code",
   "execution_count": 46,
   "id": "3cdb3dfc",
   "metadata": {},
   "outputs": [
    {
     "name": "stdout",
     "output_type": "stream",
     "text": [
      "Palabra 1: Hola\n",
      "Palabra 2: a\n",
      "Palabra 3: todos\n"
     ]
    }
   ],
   "source": [
    "for idx, palabra in enumerate(palabras,1):\n",
    "    print(f'Palabra {idx}: {palabra}')"
   ]
  },
  {
   "cell_type": "code",
   "execution_count": 49,
   "id": "a6fb77cf",
   "metadata": {},
   "outputs": [
    {
     "name": "stdout",
     "output_type": "stream",
     "text": [
      "El número de intento es 1\n",
      "El número de intento es 2\n",
      "El número de intento es 3\n",
      "El número de intento es 4\n",
      "El número de intento es 5\n",
      "El número de intento es 6\n",
      "El número de intento es 7\n",
      "El número de intento es 8\n",
      "El número de intento es 9\n",
      "El número de intento es 10\n"
     ]
    }
   ],
   "source": [
    "# Trabajando con while loops\n",
    "max_intentos = 10\n",
    "intento = 1\n",
    "while intento <= max_intentos:\n",
    "    print(f'El número de intento es {intento}')\n",
    "    intento += 1"
   ]
  },
  {
   "cell_type": "markdown",
   "id": "a09fd39c",
   "metadata": {},
   "source": [
    "# 6.Funciones"
   ]
  },
  {
   "cell_type": "code",
   "execution_count": 50,
   "id": "74fbf917",
   "metadata": {},
   "outputs": [
    {
     "name": "stdout",
     "output_type": "stream",
     "text": [
      "Ya me voy\n"
     ]
    }
   ],
   "source": [
    "print('Ya me voy')"
   ]
  },
  {
   "cell_type": "code",
   "execution_count": 51,
   "id": "d660f6c9",
   "metadata": {},
   "outputs": [
    {
     "data": {
      "text/plain": [
       "17"
      ]
     },
     "execution_count": 51,
     "metadata": {},
     "output_type": "execute_result"
    }
   ],
   "source": [
    "len('Aprobare el curso')"
   ]
  },
  {
   "cell_type": "code",
   "execution_count": 52,
   "id": "cbc36287",
   "metadata": {},
   "outputs": [],
   "source": [
    "# Creando una función\n",
    "def saluda():\n",
    "    print('Hola')"
   ]
  },
  {
   "cell_type": "code",
   "execution_count": 53,
   "id": "1b1bdd6a",
   "metadata": {},
   "outputs": [
    {
     "name": "stdout",
     "output_type": "stream",
     "text": [
      "Hola\n"
     ]
    }
   ],
   "source": [
    "saluda()"
   ]
  },
  {
   "cell_type": "code",
   "execution_count": 54,
   "id": "b086276d",
   "metadata": {},
   "outputs": [],
   "source": [
    "def saluda(nombre):\n",
    "    print(f'Hola {nombre}')"
   ]
  },
  {
   "cell_type": "code",
   "execution_count": 55,
   "id": "45b34431",
   "metadata": {},
   "outputs": [
    {
     "name": "stdout",
     "output_type": "stream",
     "text": [
      "Hola José\n"
     ]
    }
   ],
   "source": [
    "saluda('José')"
   ]
  },
  {
   "cell_type": "code",
   "execution_count": 56,
   "id": "3972ebe6",
   "metadata": {},
   "outputs": [],
   "source": [
    "def bienbenido(nombre,lugar):\n",
    "    print(f'Bienvenido {nombre}, llegaste a {lugar}')"
   ]
  },
  {
   "cell_type": "code",
   "execution_count": 57,
   "id": "e8cba5ef",
   "metadata": {},
   "outputs": [
    {
     "name": "stdout",
     "output_type": "stream",
     "text": [
      "Bienvenido José, llegaste a Cuzco\n"
     ]
    }
   ],
   "source": [
    "bienbenido('José','Cuzco')"
   ]
  },
  {
   "cell_type": "code",
   "execution_count": 58,
   "id": "387f86d1",
   "metadata": {},
   "outputs": [],
   "source": [
    "# función que retorna un valor\n",
    "def sumar(a,b):\n",
    "    return a+b"
   ]
  },
  {
   "cell_type": "code",
   "execution_count": 60,
   "id": "03a9d8dd",
   "metadata": {},
   "outputs": [
    {
     "name": "stdout",
     "output_type": "stream",
     "text": [
      "16\n"
     ]
    }
   ],
   "source": [
    "resultado = sumar(9,7)\n",
    "print(resultado)"
   ]
  },
  {
   "cell_type": "code",
   "execution_count": 62,
   "id": "179193ff",
   "metadata": {},
   "outputs": [
    {
     "name": "stdout",
     "output_type": "stream",
     "text": [
      "la suma es un número par\n"
     ]
    }
   ],
   "source": [
    "if sumar(9,7) %2==0:\n",
    "    print('la suma es un número par')\n",
    "else: \n",
    "    print('la suma es un número impar')"
   ]
  },
  {
   "cell_type": "code",
   "execution_count": 63,
   "id": "846f36ad",
   "metadata": {},
   "outputs": [
    {
     "ename": "NameError",
     "evalue": "name 'nose' is not defined",
     "output_type": "error",
     "traceback": [
      "\u001b[31m---------------------------------------------------------------------------\u001b[39m",
      "\u001b[31mNameError\u001b[39m                                 Traceback (most recent call last)",
      "\u001b[36mCell\u001b[39m\u001b[36m \u001b[39m\u001b[32mIn[63]\u001b[39m\u001b[32m, line 1\u001b[39m\n\u001b[32m----> \u001b[39m\u001b[32m1\u001b[39m \u001b[38;5;28mprint\u001b[39m(\u001b[43mnose\u001b[49m)\n",
      "\u001b[31mNameError\u001b[39m: name 'nose' is not defined"
     ]
    }
   ],
   "source": [
    "print(nose)"
   ]
  }
 ],
 "metadata": {
  "kernelspec": {
   "display_name": "myenv",
   "language": "python",
   "name": "python3"
  },
  "language_info": {
   "codemirror_mode": {
    "name": "ipython",
    "version": 3
   },
   "file_extension": ".py",
   "mimetype": "text/x-python",
   "name": "python",
   "nbconvert_exporter": "python",
   "pygments_lexer": "ipython3",
   "version": "3.13.7"
  }
 },
 "nbformat": 4,
 "nbformat_minor": 5
}
